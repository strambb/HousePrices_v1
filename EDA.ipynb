{
 "nbformat": 4,
 "nbformat_minor": 2,
 "metadata": {
  "language_info": {
   "name": "python",
   "codemirror_mode": {
    "name": "ipython",
    "version": 3
   },
   "version": "3.7.7-final"
  },
  "orig_nbformat": 2,
  "file_extension": ".py",
  "mimetype": "text/x-python",
  "name": "python",
  "npconvert_exporter": "python",
  "pygments_lexer": "ipython3",
  "version": 3,
  "kernelspec": {
   "name": "python37664bitdsproj10320conda7d2d0b8284c34340aa156a3daf2ddb47",
   "display_name": "Python 3.7.6 64-bit ('DS_proj1_03-20': conda)"
  }
 },
 "cells": [
  {
   "cell_type": "markdown",
   "metadata": {},
   "source": [
    "# Complete Notebook\n",
    "## Module Loader"
   ]
  },
  {
   "cell_type": "code",
   "execution_count": 1,
   "metadata": {},
   "outputs": [],
   "source": [
    "import pandas as pd \n",
    "import numpy as np \n",
    "import matplotlib.pyplot as plt \n",
    "import seaborn as sns\n",
    "sns.set()\n",
    ""
   ]
  },
  {
   "cell_type": "markdown",
   "metadata": {},
   "source": [
    "## Analysis (General)\n",
    "### Dataloader"
   ]
  },
  {
   "cell_type": "code",
   "execution_count": 2,
   "metadata": {},
   "outputs": [],
   "source": [
    "path = r\"data\\train.csv\"\n",
    "X_raw = pd.read_csv(path, index_col=\"Id\")\n",
    "X_test = pd.read_csv(path, index_col =\"Id\")\n",
    ""
   ]
  },
  {
   "cell_type": "markdown",
   "metadata": {},
   "source": [
    "### General analysis"
   ]
  },
  {
   "cell_type": "code",
   "execution_count": 174,
   "metadata": {},
   "outputs": [
    {
     "output_type": "stream",
     "name": "stdout",
     "text": "MSSubClass MSZoning  LotArea Street LotShape LandContour Utilities  \\\nId                                                                       \n1           60       RL     8450   Pave      Reg         Lvl    AllPub   \n2           20       RL     9600   Pave      Reg         Lvl    AllPub   \n3           60       RL    11250   Pave      IR1         Lvl    AllPub   \n4           70       RL     9550   Pave      IR1         Lvl    AllPub   \n5           60       RL    14260   Pave      IR1         Lvl    AllPub   \n\n   LotConfig LandSlope Neighborhood  ... OpenPorchSF EnclosedPorch 3SsnPorch  \\\nId                                   ...                                       \n1     Inside       Gtl      CollgCr  ...          61             0         0   \n2        FR2       Gtl      Veenker  ...           0             0         0   \n3     Inside       Gtl      CollgCr  ...          42             0         0   \n4     Corner       Gtl      Crawfor  ...          35           272         0   \n5        FR2       Gtl      NoRidge  ...          84             0         0   \n\n   ScreenPorch  PoolArea  MiscVal  MoSold  YrSold SaleType SaleCondition  \nId                                                                        \n1            0         0        0       2    2008       WD        Normal  \n2            0         0        0       5    2007       WD        Normal  \n3            0         0        0       9    2008       WD        Normal  \n4            0         0        0       2    2006       WD       Abnorml  \n5            0         0        0      12    2008       WD        Normal  \n\n[5 rows x 60 columns]\n<class 'pandas.core.frame.DataFrame'>\nInt64Index: 1460 entries, 1 to 1460\nData columns (total 60 columns):\n #   Column         Non-Null Count  Dtype \n---  ------         --------------  ----- \n 0   MSSubClass     1460 non-null   int64 \n 1   MSZoning       1460 non-null   object\n 2   LotArea        1460 non-null   int64 \n 3   Street         1460 non-null   object\n 4   LotShape       1460 non-null   object\n 5   LandContour    1460 non-null   object\n 6   Utilities      1460 non-null   object\n 7   LotConfig      1460 non-null   object\n 8   LandSlope      1460 non-null   object\n 9   Neighborhood   1460 non-null   object\n 10  Condition1     1460 non-null   object\n 11  Condition2     1460 non-null   object\n 12  BldgType       1460 non-null   object\n 13  HouseStyle     1460 non-null   object\n 14  OverallQual    1460 non-null   int64 \n 15  OverallCond    1460 non-null   int64 \n 16  YearBuilt      1460 non-null   int64 \n 17  YearRemodAdd   1460 non-null   int64 \n 18  RoofStyle      1460 non-null   object\n 19  RoofMatl       1460 non-null   object\n 20  Exterior1st    1460 non-null   object\n 21  Exterior2nd    1460 non-null   object\n 22  ExterQual      1460 non-null   object\n 23  ExterCond      1460 non-null   object\n 24  Foundation     1460 non-null   object\n 25  BsmtFinSF1     1460 non-null   int64 \n 26  BsmtFinSF2     1460 non-null   int64 \n 27  BsmtUnfSF      1460 non-null   int64 \n 28  TotalBsmtSF    1460 non-null   int64 \n 29  Heating        1460 non-null   object\n 30  HeatingQC      1460 non-null   object\n 31  CentralAir     1460 non-null   object\n 32  1stFlrSF       1460 non-null   int64 \n 33  2ndFlrSF       1460 non-null   int64 \n 34  LowQualFinSF   1460 non-null   int64 \n 35  GrLivArea      1460 non-null   int64 \n 36  BsmtFullBath   1460 non-null   int64 \n 37  BsmtHalfBath   1460 non-null   int64 \n 38  FullBath       1460 non-null   int64 \n 39  HalfBath       1460 non-null   int64 \n 40  BedroomAbvGr   1460 non-null   int64 \n 41  KitchenAbvGr   1460 non-null   int64 \n 42  KitchenQual    1460 non-null   object\n 43  TotRmsAbvGrd   1460 non-null   int64 \n 44  Functional     1460 non-null   object\n 45  Fireplaces     1460 non-null   int64 \n 46  GarageCars     1460 non-null   int64 \n 47  GarageArea     1460 non-null   int64 \n 48  PavedDrive     1460 non-null   object\n 49  WoodDeckSF     1460 non-null   int64 \n 50  OpenPorchSF    1460 non-null   int64 \n 51  EnclosedPorch  1460 non-null   int64 \n 52  3SsnPorch      1460 non-null   int64 \n 53  ScreenPorch    1460 non-null   int64 \n 54  PoolArea       1460 non-null   int64 \n 55  MiscVal        1460 non-null   int64 \n 56  MoSold         1460 non-null   int64 \n 57  YrSold         1460 non-null   int64 \n 58  SaleType       1460 non-null   object\n 59  SaleCondition  1460 non-null   object\ndtypes: int64(33), object(27)\nmemory usage: 695.8+ KB\nNone\n        MSSubClass        LotArea  OverallQual  OverallCond    YearBuilt  \\\ncount  1460.000000    1460.000000  1460.000000  1460.000000  1460.000000   \nmean     56.897260   10516.828082     6.099315     5.575342  1971.267808   \nstd      42.300571    9981.264932     1.382997     1.112799    30.202904   \nmin      20.000000    1300.000000     1.000000     1.000000  1872.000000   \n25%      20.000000    7553.500000     5.000000     5.000000  1954.000000   \n50%      50.000000    9478.500000     6.000000     5.000000  1973.000000   \n75%      70.000000   11601.500000     7.000000     6.000000  2000.000000   \nmax     190.000000  215245.000000    10.000000     9.000000  2010.000000   \n\n       YearRemodAdd   BsmtFinSF1   BsmtFinSF2    BsmtUnfSF  TotalBsmtSF  ...  \\\ncount   1460.000000  1460.000000  1460.000000  1460.000000  1460.000000  ...   \nmean    1984.865753   443.639726    46.549315   567.240411  1057.429452  ...   \nstd       20.645407   456.098091   161.319273   441.866955   438.705324  ...   \nmin     1950.000000     0.000000     0.000000     0.000000     0.000000  ...   \n25%     1967.000000     0.000000     0.000000   223.000000   795.750000  ...   \n50%     1994.000000   383.500000     0.000000   477.500000   991.500000  ...   \n75%     2004.000000   712.250000     0.000000   808.000000  1298.250000  ...   \nmax     2010.000000  5644.000000  1474.000000  2336.000000  6110.000000  ...   \n\n        GarageArea   WoodDeckSF  OpenPorchSF  EnclosedPorch    3SsnPorch  \\\ncount  1460.000000  1460.000000  1460.000000    1460.000000  1460.000000   \nmean    472.980137    94.244521    46.660274      21.954110     3.409589   \nstd     213.804841   125.338794    66.256028      61.119149    29.317331   \nmin       0.000000     0.000000     0.000000       0.000000     0.000000   \n25%     334.500000     0.000000     0.000000       0.000000     0.000000   \n50%     480.000000     0.000000    25.000000       0.000000     0.000000   \n75%     576.000000   168.000000    68.000000       0.000000     0.000000   \nmax    1418.000000   857.000000   547.000000     552.000000   508.000000   \n\n       ScreenPorch     PoolArea       MiscVal       MoSold       YrSold  \ncount  1460.000000  1460.000000   1460.000000  1460.000000  1460.000000  \nmean     15.060959     2.758904     43.489041     6.321918  2007.815753  \nstd      55.757415    40.177307    496.123024     2.703626     1.328095  \nmin       0.000000     0.000000      0.000000     1.000000  2006.000000  \n25%       0.000000     0.000000      0.000000     5.000000  2007.000000  \n50%       0.000000     0.000000      0.000000     6.000000  2008.000000  \n75%       0.000000     0.000000      0.000000     8.000000  2009.000000  \nmax     480.000000   738.000000  15500.000000    12.000000  2010.000000  \n\n[8 rows x 33 columns]\nSummary:\n\nNumber of columns: 60\nNumber of object columns: 27\nNumber of columns with NaNs: 0\nNumber of object columns with NaNs: 0\nNumber of numeric columns with NaNs: 0\n"
    }
   ],
   "source": [
    "X = X_raw.copy()\n",
    "X.dropna(subset=[\"SalePrice\"], axis=0, inplace=True)\n",
    "X.dropna(axis=1, inplace = True)\n",
    "y = X.SalePrice\n",
    "X.drop(\"SalePrice\", axis=1, inplace=True)\n",
    "\n",
    "print(X.head())\n",
    "print(X.info())\n",
    "print(X.describe())\n",
    "\n",
    "col_obj = X.select_dtypes(include=[\"object\", \"bool\"]).columns\n",
    "col_obj_above_10 = list([col for col in col_obj if X[col].nunique() > 15])\n",
    "col_obj_below_10 = list(set(col_obj)-set(col_obj_above_10))\n",
    "col_num = X.select_dtypes(exclude=[\"object\", \"bool\"]).columns.values\n",
    "col_with_nan = [col for col in X.columns if X[col].isna().any()]\n",
    "\n",
    "\n",
    "print(\"Summary:\\n\")\n",
    "print(\"Number of columns: {}\".format(len(X.columns)))\n",
    "print(\"Number of object columns: {}\".format(len(col_obj)))\n",
    "print(\"Number of columns with NaNs: {}\".format(len(col_with_nan)))\n",
    "print(\"Number of object columns with NaNs: {}\".format(len(set(col_with_nan)-set(col_num))))\n",
    "print(\"Number of numeric columns with NaNs: {}\".format(len(set(col_with_nan)-set(col_obj))))\n",
    ""
   ]
  },
  {
   "cell_type": "markdown",
   "metadata": {},
   "source": [
    "### Further Analysis"
   ]
  },
  {
   "cell_type": "markdown",
   "metadata": {},
   "source": [
    "## Pipeline and predictor"
   ]
  },
  {
   "cell_type": "code",
   "execution_count": 98,
   "metadata": {},
   "outputs": [],
   "source": [
    "from sklearn.ensemble import RandomForestRegressor\n",
    "from sklearn.linear_model import Lars, ElasticNet\n",
    "from sklearn.svm import SVR\n",
    "from sklearn.ensemble import AdaBoostRegressor\n",
    "from sklearn.neural_network import MLPRegressor\n",
    "from xgboost import XGBRegressor\n",
    "from sklearn.pipeline import Pipeline\n",
    "from sklearn.model_selection import GridSearchCV, train_test_split\n",
    "from sklearn.impute import SimpleImputer\n",
    "from sklearn.compose import ColumnTransformer, TransformedTargetRegressor\n",
    "from sklearn.preprocessing import StandardScaler, OneHotEncoder, OrdinalEncoder\n",
    "from sklearn.decomposition import PCA\n",
    "from sklearn.metrics import mean_absolute_error\n",
    "\n",
    ""
   ]
  },
  {
   "cell_type": "markdown",
   "metadata": {},
   "source": [
    "### Building the pipeline"
   ]
  },
  {
   "cell_type": "code",
   "execution_count": 145,
   "metadata": {},
   "outputs": [],
   "source": [
    "res= {}"
   ]
  },
  {
   "cell_type": "code",
   "execution_count": 175,
   "metadata": {},
   "outputs": [
    {
     "output_type": "stream",
     "name": "stdout",
     "text": "Fitting 3 folds for each of 1 candidates, totalling 3 fits\n[Parallel(n_jobs=-2)]: Using backend LokyBackend with 7 concurrent workers.\n[Parallel(n_jobs=-2)]: Done   3 out of   3 | elapsed:    0.6s remaining:    0.0s\n[Parallel(n_jobs=-2)]: Done   3 out of   3 | elapsed:    0.6s finished\n15657.596538549084\n{'reg__alpha': 0.11, 'reg__colsample_bytree': 0.5510204081632653, 'reg__gamma': 0, 'reg__learning_rate': 0.1, 'reg__max_depth': 4, 'reg__min_child_weight': 1.1, 'reg__n_estimators': 100, 'reg__subsample': 0.8367346938775511}\n"
    }
   ],
   "source": [
    "reg = XGBRegressor(early_stopping_counts=50, evals=([X_valid, y_valid]), eval_metric=\"mae\", cv=True, seed=0 )\n",
    "#reg = ElasticNet()\n",
    "\n",
    "X_train, X_valid, y_train, y_valid = train_test_split( X, y, train_size = 0.8, test_size=0.2, random_state=0)\n",
    "\n",
    "\n",
    "\n",
    "#numeric_transformer = Pipeline([\"imputer\",SimpleImputer(strategy=\"median\")])\n",
    "\n",
    "\n",
    "\n",
    "#raising value error due to lack in synchronization caused by OneHotEncoder and OrdinalEncoder\n",
    "preprocessing = ColumnTransformer(transformers=[(\"numeric\", SimpleImputer(strategy = \"median\"), col_num) ,\n",
    "                                            (\"obj_below_10\", Pipeline([(\"obj_imputer1\", SimpleImputer(strategy = \"most_frequent\")),\n",
    "                                                                        (\"OHE\"            , OneHotEncoder(handle_unknown='ignore'\n",
    "                                                                                                            ))\n",
    "                                                                        ]), col_obj_below_10) ,\n",
    "                                            (\"Neighborhood_\", Pipeline([(\"obj_imputer2\", SimpleImputer(strategy = \"most_frequent\")),\n",
    "                                                                        (\"label_encoder\"  , OrdinalEncoder(categories=[list(X[\"Neighborhood\"].unique())])\n",
    "                                                                                                            )\n",
    "                                                                        ]), [\"Neighborhood\"]),\n",
    "                                            (\"Exterior_2nd\", Pipeline([(\"obj_imputer2\", SimpleImputer(strategy = \"most_frequent\")),\n",
    "                                                                        (\"label_encoder\"  , OrdinalEncoder(categories=[list(X[\"Exterior2nd\"].unique())]))\n",
    "                                                                        ]), [\"Exterior2nd\"])], remainder='drop')\n",
    "\n",
    "\n",
    "my_pipe = Pipeline([(\"preprocessing\",preprocessing),\n",
    "                     #(\"pca\", PCA(n_components = 35)),\n",
    "                     (\"std_scaler\", StandardScaler()),\n",
    "                     (\"reg\",reg)])\n",
    "\n",
    "\n",
    "param_grid = {  #\"preprocessing__numeric__strategy\":[\"median\", \"mean\"],\n",
    "                #\"pca__n_components\": np.linspace(25, 65, 5, dtype=\"int\"),\n",
    "                \"reg__n_estimators\": [100],\n",
    "                \"reg__learning_rate\": [0.1],\n",
    "                \"reg__max_depth\": [4],\n",
    "                \"reg__min_child_weight\":[1.1],\n",
    "                \"reg__gamma\":[0],\n",
    "                \"reg__subsample\":[0.8367346938775511],\n",
    "                \"reg__colsample_bytree\": [0.5510204081632653],\n",
    "                \"reg__alpha\":[0.11],\n",
    "                \n",
    "                }\n",
    "cv = 3\n",
    "\n",
    "search = GridSearchCV(my_pipe, param_grid=param_grid, scoring=\"neg_mean_absolute_error\", verbose=10, n_jobs=-2, cv = cv, return_train_score=True)\n",
    "search.fit(X_train,y_train)\n",
    "print(abs(search.best_score_))\n",
    "search_pred = search.predict(X_valid)\n",
    "search_score = mean_absolute_error(y_valid, search_pred)\n",
    "print(search.best_params_)\n",
    "\n",
    "res[search.best_score_] = search.best_params_\n",
    "\n",
    "test_preds = search.predict(X_test)\n",
    "output = pd.DataFrame({\"Id\": X_test.index,\n",
    "                      \"SalePrice\": test_preds})\n",
    "output.to_csv(\"submission_other.csv\", index=False)"
   ]
  },
  {
   "cell_type": "markdown",
   "metadata": {},
   "source": [
    "\n",
    "Choose a relatively high learning rate. Generally a learning rate of 0.1 works but somewhere between 0.05 to 0.3 should work for different problems. Determine the optimum number of trees for this learning rate. XGBoost has a very useful function called as “cv” which performs cross-validation at each boosting iteration and thus returns the optimum number of trees required.\n",
    "Tune tree-specific parameters ( max_depth, min_child_weight, gamma, subsample, colsample_bytree) for decided learning rate and number of trees. Note that we can choose different parameters to define a tree and I’ll take up an example here.\n",
    "Tune regularization parameters (lambda, alpha) for xgboost which can help reduce model complexity and enhance performance.\n",
    "Lower the learning rate and decide the optimal parameters .\n"
   ]
  },
  {
   "cell_type": "code",
   "execution_count": 128,
   "metadata": {},
   "outputs": [
    {
     "output_type": "stream",
     "name": "stdout",
     "text": "[0.1        0.31111111 0.52222222 0.73333333 0.94444444 1.15555556\n 1.36666667 1.57777778 1.78888889 2.        ]\n"
    }
   ],
   "source": [
    "print(np.linspace(0.1, 2, 10))"
   ]
  },
  {
   "cell_type": "code",
   "execution_count": null,
   "metadata": {},
   "outputs": [],
   "source": [
    "from sklearn.compose import Tar\n",
    "\n",
    "#reg = XGBRegressor(early_stopping_counts=5, eval_stop=([X_valid, y_valid]) )\n",
    "reg = ElasticNet()\n",
    "\n",
    "X_train, X_valid, y_train, y_valid = train_test_split( X, y, train_size = 0.8, test_size=0.2, random_state=0)\n",
    "\n",
    "\n",
    "\n",
    "#numeric_transformer = Pipeline([\"imputer\",SimpleImputer(strategy=\"median\")])\n",
    "\n",
    "\n",
    "\n",
    "#raising value error due to lack in synchronization caused by OneHotEncoder and OrdinalEncoder\n",
    "preprocessing = ColumnTransformer(transformers=[(\"numeric\", SimpleImputer(strategy = \"median\"), col_num) ,\n",
    "                                            (\"obj_below_10\", Pipeline([(\"obj_imputer1\", SimpleImputer(strategy = \"most_frequent\")),\n",
    "                                                                        (\"OHE\"            , OneHotEncoder(handle_unknown='ignore'\n",
    "                                                                                                            ))\n",
    "                                                                        ]), col_obj_below_10) ,\n",
    "                                            (\"Neighborhood_\", Pipeline([(\"obj_imputer2\", SimpleImputer(strategy = \"most_frequent\")),\n",
    "                                                                        (\"label_encoder\"  , OrdinalEncoder(categories=[list(X[\"Neighborhood\"].unique())])\n",
    "                                                                                                            )\n",
    "                                                                        ]), [\"Neighborhood\"]),\n",
    "                                            (\"Exterior_2nd\", Pipeline([(\"obj_imputer2\", SimpleImputer(strategy = \"most_frequent\")),\n",
    "                                                                        (\"label_encoder\"  , OrdinalEncoder(categories=[list(X[\"Exterior2nd\"].unique())]))\n",
    "                                                                        ]), [\"Exterior2nd\"])], remainder='drop')\n",
    "\n",
    "\n",
    "my_pipe = Pipeline([(\"preprocessing\",preprocessing),\n",
    "                     (\"pca\", PCA(n_components = 42)),\n",
    "                     (\"reg\",reg)])\n",
    "\n",
    "\n",
    "param_grid = {  #\"preprocessing__numeric__strategy\":[\"median\", \"mean\"],\n",
    "                \"pca__n_components\": np.linspace(25, 65, 10, dtype=\"int\"),\n",
    "                #\"reg__n_estimators\": np.linspace(100, 1000, 20, dtype=\"int\"),\n",
    "                \"reg__alpha\":np.linspace(.01,1.5,50),\n",
    "                \"reg__l1_ratio\": np.linspace(.2, .8, 10)\n",
    "                }\n",
    "cv = 5\n",
    "\n",
    "search = GridSearchCV(my_pipe, param_grid=param_grid, scoring=\"neg_mean_absolute_error\", verbose=5, n_jobs=-2, cv = cv)\n",
    "search.fit(X_train,y_train)\n",
    "print(abs(search.best_score_))\n",
    "search_pred = search.predict(X_valid)\n",
    "search_score = mean_absolute_error(y_valid, search_pred)\n",
    "print(search.best_params_)\n",
    "\n",
    "reg = ElasticNet(alpha=.253265, l1_ratio=0.66666666)\n",
    "my_pipe = Pipeline([(\"preprocessing\",preprocessing),\n",
    "                     (\"pca\", PCA(n_components = 42)),\n",
    "                     (\"reg\",reg)])\n",
    "my_pipe.fit(X_train, y_train)\n",
    "y_pred = my_pipe.predict(X_valid)\n",
    "score = mean_absolute_error(y_valid, y_pred)\n",
    "print(score)"
   ]
  },
  {
   "cell_type": "code",
   "execution_count": 55,
   "metadata": {},
   "outputs": [
    {
     "output_type": "error",
     "ename": "SyntaxError",
     "evalue": "invalid syntax (<ipython-input-55-a0b1e13b0fb7>, line 8)",
     "traceback": [
      "\u001b[1;36m  File \u001b[1;32m\"<ipython-input-55-a0b1e13b0fb7>\"\u001b[1;36m, line \u001b[1;32m8\u001b[0m\n\u001b[1;33m    elnet =\u001b[0m\n\u001b[1;37m            ^\u001b[0m\n\u001b[1;31mSyntaxError\u001b[0m\u001b[1;31m:\u001b[0m invalid syntax\n"
     ]
    }
   ],
   "source": [
    "rfr, lars, elnet, svr, ada, mlpr, xgbr = RandomForestRegressor(), LassoLars(), ElasticNet(), SVR(), AdaBoostRegressor(), MLPRegressor(), XGBRegressor()\n",
    "\n",
    "model_instances = [rfr, lars, elnet, svr, ada, mlpr, xgbr]\n",
    "rfr_list =[\"n_estimators\"]\n",
    "rfr_list.append(np.linspace(10, 200, 10, dtype=\"int\"))\n",
    "lars_list = [\"alpha\"]\n",
    "lars_list.append(np.linspace(.01, .2, 10))\n",
    "elnet = \n",
    "\n",
    "models = {}\n",
    "grids = []\n",
    "print(rfr_list)"
   ]
  }
 ]
}