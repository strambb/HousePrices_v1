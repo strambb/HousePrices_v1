{
 "cells": [
  {
   "cell_type": "code",
   "execution_count": null,
   "metadata": {},
   "outputs": [],
   "source": [
    "#Drop strongly correlated and insignificants\n",
    "\n",
    "feat_corr = feat.copy()\n",
    "feat_corr[\"SalePrice\"] = y\n",
    "corrmat = feat_corr.corr()\n",
    "fig, ax = plt.subplots(figsize=(18,12))\n",
    "#sns.heatmap(corrmat)\n",
    "highly_correlated_cols = corrmat[\"SalePrice\"].abs().nlargest(25).index\n",
    "low_correlated_cols =corrmat[corrmat[\"SalePrice\"].abs()<0.1][\"SalePrice\"].index\n",
    "print(highly_correlated_cols)\n",
    "print(low_correlated_cols)\n",
    "\n",
    "cm2 = corrmat[highly_correlated_cols].T\n",
    "cm2 = cm2[highly_correlated_cols]\n",
    "\n",
    "sns.heatmap(cm2, annot=True)\n",
    "\n",
    "add\n",
    "\n",
    "dropables=[\"GarageCars\",\"FullBath\",\"YearModBooster\", \"TotRmsAbvGrd\",\"TotalHouseSize\"]#list(low_correlated_cols)\n",
    "\n",
    "\n",
    "\n",
    "feat.drop(dropables, axis=1, inplace=True)\n",
    "\n",
    "#Drop insignificants"
   ]
  }
 ],
 "metadata": {
  "language_info": {
   "codemirror_mode": {
    "name": "ipython",
    "version": 3
   },
   "file_extension": ".py",
   "mimetype": "text/x-python",
   "name": "python",
   "nbconvert_exporter": "python",
   "pygments_lexer": "ipython3",
   "version": 3
  },
  "orig_nbformat": 2
 },
 "nbformat": 4,
 "nbformat_minor": 2
}