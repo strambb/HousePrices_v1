{
 "cells": [
  {
   "cell_type": "code",
   "execution_count": 20,
   "metadata": {},
   "outputs": [],
   "source": [
    "#normal stuff\n",
    "import pandas as pd \n",
    "import numpy as np \n",
    "import matplotlib.pyplot as plt \n",
    "import seaborn as sns\n",
    "from scipy import stats\n",
    "from sklearn.preprocessing import StandardScaler\n",
    "sns.set()\n",
    "%matplotlib inline\n",
    "\n",
    "#special effects\n",
    "from sklearn.ensemble import RandomForestRegressor\n",
    "from sklearn.linear_model import Ridge, Lars, ElasticNet, Lasso, LinearRegression, BayesianRidge, LassoLars\n",
    "from sklearn.svm import SVR\n",
    "from sklearn.ensemble import AdaBoostRegressor\n",
    "from sklearn.neural_network import MLPRegressor\n",
    "from xgboost import XGBRegressor\n",
    "from sklearn.pipeline import Pipeline\n",
    "from sklearn.model_selection import GridSearchCV, train_test_split\n",
    "from sklearn.impute import SimpleImputer\n",
    "from sklearn.compose import ColumnTransformer, TransformedTargetRegressor\n",
    "from sklearn.preprocessing import StandardScaler, OneHotEncoder, OrdinalEncoder, RobustScaler\n",
    "from sklearn.decomposition import PCA\n",
    "from sklearn.metrics import mean_absolute_error"
   ]
  },
  {
   "cell_type": "code",
   "execution_count": 21,
   "metadata": {},
   "outputs": [
    {
     "output_type": "stream",
     "name": "stdout",
     "text": "(1428, 198) (1459, 198) (1428,)\n"
    }
   ],
   "source": [
    "#Dataloader\n",
    "path =[r\"..\\data\\train_preprocessed.csv\", r\"..\\data\\test_preprocessed.csv\"]\n",
    "\n",
    "X = pd.read_csv(path[0])\n",
    "X_test = pd.read_csv(path[1], )\n",
    "\n",
    "y=X[\"logSalePrice\"]\n",
    "X.drop(\"logSalePrice\", axis=1, inplace=True)\n",
    "\n",
    "print(X.shape, X_test.shape, y.shape)"
   ]
  },
  {
   "cell_type": "code",
   "execution_count": 22,
   "metadata": {},
   "outputs": [],
   "source": [
    "#Train_test_split\n",
    "X_train, X_valid, y_train, y_valid = train_test_split( X, y, train_size = 0.8, test_size=0.2, random_state=0)\n",
    "\n"
   ]
  },
  {
   "cell_type": "code",
   "execution_count": null,
   "metadata": {},
   "outputs": [],
   "source": []
  },
  {
   "cell_type": "code",
   "execution_count": 23,
   "metadata": {},
   "outputs": [],
   "source": [
    "#Base_Model\n",
    "#XGBR_final = XGBRegressor(n_estimators=4500, learning_rate=0.008, max_depth = 4, min_child_weight=4, gamma=0, subsample= 0.940136255964662, colsample_bytree = 0.5, alpha = 0.10925528556796542, early_stopping_counts=50, evals=y_valid, eval_metric=\"mae\",cv=True, seed=0, verbosity=1 )\n",
    "BaseReg = LinearRegression()\n",
    "\n",
    "my_pipe_out = Pipeline([#(\"preprocessing\", preprocessing),\n",
    "                        (\"rb_scaler\", RobustScaler()),\n",
    "                        (\"basereg\", BaseReg)\n",
    "                        ])\n",
    "\n",
    "\n",
    "my_pipe_out.fit(X_train, y_train)\n",
    "\n",
    "\n",
    "\n",
    "valid_preds = my_pipe_out.predict(X_valid)\n",
    "\n",
    "valid_score = mean_absolute_error(np.exp(y_valid), np.exp(valid_preds))\n",
    "#print(valid_score)\n"
   ]
  },
  {
   "cell_type": "markdown",
   "metadata": {},
   "source": [
    "Models to choose from:\n",
    "* SVR\n",
    "* Ridge\n",
    "* Lasso\n",
    "* Lars\n",
    "* LassoLars\n",
    "* BayesianRidge\n",
    "* ElasticNet\n",
    "* RandomForestRegressor\n",
    "* AdaBoost\n",
    "* MLPRegressor\n",
    "* XGBRegressor"
   ]
  },
  {
   "cell_type": "code",
   "execution_count": 24,
   "metadata": {},
   "outputs": [],
   "source": [
    "#Preparation\n",
    "#Define a dict to store name and results per model for later evaluation \n",
    "Model_score_dict = {}\n",
    "#define a selected scaler\n",
    "selected_scaler = StandardScaler() #alternative: RobustScaler()\n",
    "#Models to choose:\n",
    "\n",
    "\n",
    "\n"
   ]
  },
  {
   "cell_type": "code",
   "execution_count": 25,
   "metadata": {},
   "outputs": [],
   "source": [
    "#Model constructor SVR\n",
    "model_name= \"SVR\"\n",
    "finder_reg = SVR(C=10)\n",
    "\n",
    "finder_pipe = Pipeline([(\"scaler\", selected_scaler),\n",
    "                        (\"finder_reg\", finder_reg)\n",
    "                        ])\n",
    "\n",
    "finder_pipe.fit(X_train, y_train)\n",
    "finder_valid_preds = finder_pipe.predict(X_valid)\n",
    "finder_valid_score = mean_absolute_error(np.exp(y_valid), np.exp(finder_valid_preds))\n",
    "Model_score_dict[model_name] = finder_valid_score"
   ]
  },
  {
   "cell_type": "code",
   "execution_count": 26,
   "metadata": {},
   "outputs": [],
   "source": [
    "#Model constructor Ridge\n",
    "model_name= \"Ridge\"\n",
    "finder_reg = Ridge(alpha = 0.5, random_state= 42)\n",
    "\n",
    "finder_pipe = Pipeline([(\"scaler\", selected_scaler),\n",
    "                        (\"finder_reg\", finder_reg)\n",
    "                        ])\n",
    "\n",
    "finder_pipe.fit(X_train, y_train)\n",
    "finder_valid_preds = finder_pipe.predict(X_valid)\n",
    "finder_valid_score = mean_absolute_error(np.exp(y_valid), np.exp(finder_valid_preds))\n",
    "Model_score_dict[model_name] = finder_valid_score"
   ]
  },
  {
   "cell_type": "code",
   "execution_count": 27,
   "metadata": {},
   "outputs": [],
   "source": [
    "#Model constructor Lasso\n",
    "model_name= \"Lasso\"\n",
    "finder_reg = Lasso(alpha = 0.01, random_state= 42)\n",
    "\n",
    "finder_pipe = Pipeline([(\"scaler\", selected_scaler),\n",
    "                        (\"finder_reg\", finder_reg)\n",
    "                        ])\n",
    "\n",
    "finder_pipe.fit(X_train, y_train)\n",
    "finder_valid_preds = finder_pipe.predict(X_valid)\n",
    "finder_valid_score = mean_absolute_error(np.exp(y_valid), np.exp(finder_valid_preds))\n",
    "Model_score_dict[model_name] = finder_valid_score"
   ]
  },
  {
   "cell_type": "code",
   "execution_count": 28,
   "metadata": {},
   "outputs": [],
   "source": [
    "#Model constructor Lars\n",
    "model_name= \"Lars\"\n",
    "finder_reg = Lars()\n",
    "\n",
    "finder_pipe = Pipeline([(\"scaler\", selected_scaler),\n",
    "                        (\"finder_reg\", finder_reg)\n",
    "                        ])\n",
    "\n",
    "finder_pipe.fit(X_train, y_train)\n",
    "finder_valid_preds = finder_pipe.predict(X_valid)\n",
    "finder_valid_score = mean_absolute_error(np.exp(y_valid), np.exp(finder_valid_preds))\n",
    "Model_score_dict[model_name] = finder_valid_score"
   ]
  },
  {
   "cell_type": "code",
   "execution_count": 29,
   "metadata": {},
   "outputs": [],
   "source": [
    "#Model constructor LarsLasso\n",
    "model_name= \"LassoLars\"\n",
    "finder_reg = LassoLars(alpha=0.01)\n",
    "\n",
    "finder_pipe = Pipeline([(\"scaler\", selected_scaler),\n",
    "                        (\"finder_reg\", finder_reg)\n",
    "                        ])\n",
    "\n",
    "finder_pipe.fit(X_train, y_train)\n",
    "finder_valid_preds = finder_pipe.predict(X_valid)\n",
    "finder_valid_score = mean_absolute_error(np.exp(y_valid), np.exp(finder_valid_preds))\n",
    "Model_score_dict[model_name] = finder_valid_score"
   ]
  },
  {
   "cell_type": "code",
   "execution_count": 30,
   "metadata": {},
   "outputs": [],
   "source": [
    "#Model constructor BayesianRidge\n",
    "model_name= \"BayesianRidge\"\n",
    "finder_reg = BayesianRidge()\n",
    "\n",
    "finder_pipe = Pipeline([(\"scaler\", selected_scaler),\n",
    "                        (\"finder_reg\", finder_reg)\n",
    "                        ])\n",
    "\n",
    "finder_pipe.fit(X_train, y_train)\n",
    "finder_valid_preds = finder_pipe.predict(X_valid)\n",
    "finder_valid_score = mean_absolute_error(np.exp(y_valid), np.exp(finder_valid_preds))\n",
    "Model_score_dict[model_name] = finder_valid_score"
   ]
  },
  {
   "cell_type": "code",
   "execution_count": 31,
   "metadata": {},
   "outputs": [],
   "source": [
    "#Model constructor ElasticNet\n",
    "model_name= \"ElasticNet\"\n",
    "finder_reg = ElasticNet(alpha=0.01)\n",
    "\n",
    "finder_pipe = Pipeline([(\"scaler\", selected_scaler),\n",
    "                        (\"finder_reg\", finder_reg)\n",
    "                        ])\n",
    "\n",
    "finder_pipe.fit(X_train, y_train)\n",
    "finder_valid_preds = finder_pipe.predict(X_valid)\n",
    "finder_valid_score = mean_absolute_error(np.exp(y_valid), np.exp(finder_valid_preds))\n",
    "Model_score_dict[model_name] = finder_valid_score"
   ]
  },
  {
   "cell_type": "code",
   "execution_count": 32,
   "metadata": {},
   "outputs": [],
   "source": [
    "#Model constructor RandomForestRegressor\n",
    "model_name= \"RandomForestRegressor\"\n",
    "finder_reg = RandomForestRegressor(n_estimators=100)\n",
    "\n",
    "finder_pipe = Pipeline([(\"scaler\", selected_scaler),\n",
    "                        (\"finder_reg\", finder_reg)\n",
    "                        ])\n",
    "\n",
    "finder_pipe.fit(X_train, y_train)\n",
    "finder_valid_preds = finder_pipe.predict(X_valid)\n",
    "finder_valid_score = mean_absolute_error(np.exp(y_valid), np.exp(finder_valid_preds))\n",
    "Model_score_dict[model_name] = finder_valid_score"
   ]
  },
  {
   "cell_type": "code",
   "execution_count": 33,
   "metadata": {},
   "outputs": [],
   "source": [
    "#Model constructor AdaBoostRegressor\n",
    "model_name= \"AdaBoost\"\n",
    "finder_reg = AdaBoostRegressor(n_estimators=100)\n",
    "\n",
    "finder_pipe = Pipeline([(\"scaler\", selected_scaler),\n",
    "                        (\"finder_reg\", finder_reg)\n",
    "                        ])\n",
    "\n",
    "finder_pipe.fit(X_train, y_train)\n",
    "finder_valid_preds = finder_pipe.predict(X_valid)\n",
    "finder_valid_score = mean_absolute_error(np.exp(y_valid), np.exp(finder_valid_preds))\n",
    "Model_score_dict[model_name] = finder_valid_score"
   ]
  },
  {
   "cell_type": "code",
   "execution_count": 34,
   "metadata": {},
   "outputs": [],
   "source": [
    "#Model constructor MLPRegressor\n",
    "model_name= \"MLPRegressor\"\n",
    "finder_reg = MLPRegressor(learning_rate = \"adaptive\", hidden_layer_sizes=1000)\n",
    "\n",
    "finder_pipe = Pipeline([(\"scaler\", selected_scaler),\n",
    "                        (\"finder_reg\", finder_reg)\n",
    "                        ])\n",
    "\n",
    "finder_pipe.fit(X_train, y_train)\n",
    "finder_valid_preds = finder_pipe.predict(X_valid)\n",
    "finder_valid_score = mean_absolute_error(np.exp(y_valid), np.exp(finder_valid_preds))\n",
    "Model_score_dict[model_name] = finder_valid_score"
   ]
  },
  {
   "cell_type": "code",
   "execution_count": 35,
   "metadata": {},
   "outputs": [],
   "source": [
    "#Model constructor Xgboost\n",
    "model_name = \"XGBR\"\n",
    "\n",
    "finder_reg = XGBRegressor(n_estimators = 2000, learning_rate=0.01)\n",
    "#XGBRegressor(n_estimators=4500, learning_rate=0.008, max_depth = 4, min_child_weight=4, gamma=0, subsample= 0.940136255964662, colsample_bytree = 0.5, alpha = 0.10925528556796542, early_stopping_counts=50, evals=y_valid, eval_metric=\"mae\",cv=True, seed=0, verbosity=1 )\n",
    "\n",
    "\n",
    "finder_pipe = Pipeline([(\"scaler\", selected_scaler),\n",
    "                        (\"finder_reg\", finder_reg)\n",
    "                        ])\n",
    "\n",
    "finder_pipe.fit(X_train, y_train)\n",
    "finder_valid_preds = finder_pipe.predict(X_valid)\n",
    "finder_valid_score = mean_absolute_error(np.exp(y_valid), np.exp(finder_valid_preds))\n",
    "Model_score_dict[model_name] = finder_valid_score"
   ]
  },
  {
   "cell_type": "code",
   "execution_count": 36,
   "metadata": {},
   "outputs": [
    {
     "output_type": "stream",
     "name": "stdout",
     "text": "Base model: 14856.573\nFinder model: ElasticNet \nBest Model Score: 13525.884 \nDifference total:-1330.688\nDifference relative:-8.96%\n"
    }
   ],
   "source": [
    "#Finder and Search evaluation\n",
    "\n",
    "best_model = min(Model_score_dict.keys(), key=(lambda k : Model_score_dict[k]))\n",
    "best_score = Model_score_dict[best_model]\n",
    "model_diff_mae = Model_score_dict[best_model]-valid_score\n",
    "diff_rel_mae = model_diff_mae/valid_score*100\n",
    "print(f\"Base model: {valid_score:.3f}\\nFinder model: {best_model}\",\n",
    "f\"\\nBest Model Score: {best_score:.3f}\"\n",
    ",f\"\\nDifference total:{model_diff_mae:.3f}\\nDifference relative:{diff_rel_mae:.2f}%\")"
   ]
  },
  {
   "cell_type": "code",
   "execution_count": 37,
   "metadata": {},
   "outputs": [
    {
     "output_type": "stream",
     "name": "stdout",
     "text": "{'SVR': 18878.57642535691, 'Ridge': 14761.154925711704, 'Lasso': 14043.950599666718, 'Lars': 61213518.591667004, 'LassoLars': 53200.79878768031, 'BayesianRidge': 14020.63041524024, 'ElasticNet': 13525.88415911806, 'RandomForestRegressor': 16312.98149412193, 'AdaBoost': 20168.502570461133, 'MLPRegressor': 74794.90797803836, 'XGBR': 14247.531113417854}\n"
    }
   ],
   "source": [
    "print(Model_score_dict)"
   ]
  },
  {
   "cell_type": "code",
   "execution_count": 46,
   "metadata": {
    "tags": [
     "outputPrepend",
     "outputPrepend",
     "outputPrepend",
     "outputPrepend",
     "outputPrepend",
     "outputPrepend",
     "outputPrepend",
     "outputPrepend",
     "outputPrepend",
     "outputPrepend",
     "outputPrepend",
     "outputPrepend",
     "outputPrepend",
     "outputPrepend",
     "outputPrepend",
     "outputPrepend",
     "outputPrepend",
     "outputPrepend",
     "outputPrepend",
     "outputPrepend",
     "outputPrepend",
     "outputPrepend",
     "outputPrepend",
     "outputPrepend",
     "outputPrepend",
     "outputPrepend",
     "outputPrepend",
     "outputPrepend",
     "outputPrepend",
     "outputPrepend",
     "outputPrepend",
     "outputPrepend",
     "outputPrepend",
     "outputPrepend",
     "outputPrepend",
     "outputPrepend",
     "outputPrepend",
     "outputPrepend",
     "outputPrepend",
     "outputPrepend",
     "outputPrepend",
     "outputPrepend",
     "outputPrepend",
     "outputPrepend",
     "outputPrepend",
     "outputPrepend",
     "outputPrepend",
     "outputPrepend",
     "outputPrepend",
     "outputPrepend"
    ]
   },
   "outputs": [
    {
     "output_type": "stream",
     "name": "stdout",
     "text": "Fitting 5 folds for each of 1 candidates, totalling 5 fits\n{'reg__alpha': 0.01, 'reg__l1_ratio': 0.38612244897959186}\n13476.128757598604\n[Parallel(n_jobs=-2)]: Using backend LokyBackend with 7 concurrent workers.\n[Parallel(n_jobs=-2)]: Done   5 out of   5 | elapsed:    0.0s finished\n"
    }
   ],
   "source": [
    "#GridSearchCV \n",
    "search_reg = ElasticNet(random_state=42)\n",
    "\n",
    "\n",
    "\n",
    "cv = 5\n",
    "\n",
    "\n",
    "\n",
    "my_search_pipe = Pipeline([(\"scaler\", selected_scaler),\n",
    "                        (\"reg\", search_reg)\n",
    "                        ])\n",
    "\n",
    "param_grid = {  \"reg__alpha\": [0.01],\n",
    "                \"reg__l1_ratio\": [0.38612244897959186]\n",
    "                }\n",
    "\n",
    "\n",
    "\n",
    "\n",
    "search = GridSearchCV(my_search_pipe, param_grid=param_grid, scoring=\"neg_mean_absolute_error\", verbose=2, n_jobs=-2, cv = cv,)\n",
    "search.fit(X_train,y_train)\n",
    "search_pred = search.predict(X_valid)\n",
    "search_score = mean_absolute_error(np.exp(y_valid), np.exp(search_pred))\n",
    "print(search.best_params_)\n",
    "print(search_score)"
   ]
  },
  {
   "cell_type": "markdown",
   "metadata": {},
   "source": [
    "test_preds = my_pipe_out.predict(X_test)\n",
    "\n",
    "#recalc preds\n",
    "test_preds=np.exp(test_preds)\n",
    "\n",
    "\n",
    "output = pd.DataFrame({\"Id\": X_test.index,\n",
    "                     \"SalePrice\": test_preds})\n",
    "output.to_csv(r\"..\\output\\submission_other.csv\", index=False)"
   ]
  },
  {
   "cell_type": "code",
   "execution_count": 38,
   "metadata": {},
   "outputs": [
    {
     "output_type": "execute_result",
     "data": {
      "text/plain": "14242"
     },
     "metadata": {},
     "execution_count": 38
    }
   ],
   "source": [
    "14242\n",
    "\n",
    "\n",
    "param_grid = {  #\"preprocessing__numeric__strategy\":[\"median\", \"mean\"],\n",
    "                #\"pca__n_components\": [31],\n",
    "                \"reg__early_stopping_counts\": [10],\n",
    "                \"reg__n_estimators\": [1000],\n",
    "                \"reg__learning_rate\":[0.1],\n",
    "                \"reg__max_depth\": [1], #done[1, 2, 3, 4, 5, 6],\n",
    "                \"reg__min_child_weight\":[12], #done range(1,15,1)\n",
    "                \"reg__gamma\":[0], #done [ 0, 1, 5],\n",
    "                \"reg__subsample\":np.linspace(0.59, .62, 100),#[0.940136255964662][0.3283798423145866]\n",
    "                \"reg__colsample_bytree\": [0.5],#[i/100.0 for i in range(45,55,1)], \n",
    "                \"reg__alpha\":[0.10925528556796542],\n",
    "                \n",
    "                }\n",
    "\n"
   ]
  }
 ],
 "metadata": {
  "language_info": {
   "codemirror_mode": {
    "name": "ipython",
    "version": 3
   },
   "file_extension": ".py",
   "mimetype": "text/x-python",
   "name": "python",
   "nbconvert_exporter": "python",
   "pygments_lexer": "ipython3",
   "version": "3.7.7-final"
  },
  "orig_nbformat": 2,
  "kernelspec": {
   "name": "python37664bitdsproj10320conda7d2d0b8284c34340aa156a3daf2ddb47",
   "display_name": "Python 3.7.6 64-bit ('DS_proj1_03-20': conda)"
  }
 },
 "nbformat": 4,
 "nbformat_minor": 2
}