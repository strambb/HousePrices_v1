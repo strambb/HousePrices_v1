{
 "cells": [
  {
   "cell_type": "markdown",
   "metadata": {},
   "source": [
    "# Preprocessing, Pipeline and Model"
   ]
  },
  {
   "cell_type": "markdown",
   "metadata": {},
   "source": [
    "### Partyequipment"
   ]
  },
  {
   "cell_type": "code",
   "execution_count": 1,
   "metadata": {},
   "outputs": [],
   "source": [
    "#normal stuff\n",
    "import pandas as pd \n",
    "import numpy as np \n",
    "import matplotlib.pyplot as plt \n",
    "import seaborn as sns\n",
    "from scipy import stats\n",
    "from sklearn.preprocessing import StandardScaler\n",
    "sns.set()\n",
    "%matplotlib inline\n",
    "\n",
    "#special effects\n",
    "from sklearn.ensemble import RandomForestRegressor\n",
    "from sklearn.linear_model import Lars, ElasticNet\n",
    "from sklearn.svm import SVR\n",
    "from sklearn.ensemble import AdaBoostRegressor\n",
    "from sklearn.neural_network import MLPRegressor\n",
    "from xgboost import XGBRegressor\n",
    "from sklearn.pipeline import Pipeline\n",
    "from sklearn.model_selection import GridSearchCV, train_test_split\n",
    "from sklearn.impute import SimpleImputer\n",
    "from sklearn.compose import ColumnTransformer, TransformedTargetRegressor\n",
    "from sklearn.preprocessing import StandardScaler, OneHotEncoder, OrdinalEncoder, RobustScaler\n",
    "from sklearn.decomposition import PCA\n",
    "from sklearn.metrics import mean_absolute_error"
   ]
  },
  {
   "cell_type": "markdown",
   "metadata": {},
   "source": [
    "### Partyguests"
   ]
  },
  {
   "cell_type": "code",
   "execution_count": 2,
   "metadata": {},
   "outputs": [
    {
     "output_type": "stream",
     "name": "stdout",
     "text": "Index(['MSSubClass', 'MSZoning', 'LotFrontage', 'LotArea', 'Street', 'Alley',\n       'LotShape', 'LandContour', 'Utilities', 'LotConfig', 'LandSlope',\n       'Neighborhood', 'Condition1', 'Condition2', 'BldgType', 'HouseStyle',\n       'OverallQual', 'OverallCond', 'YearBuilt', 'YearRemodAdd', 'RoofStyle',\n       'RoofMatl', 'Exterior1st', 'Exterior2nd', 'MasVnrType', 'MasVnrArea',\n       'ExterQual', 'ExterCond', 'Foundation', 'BsmtQual', 'BsmtCond',\n       'BsmtExposure', 'BsmtFinType1', 'BsmtFinSF1', 'BsmtFinType2',\n       'BsmtFinSF2', 'BsmtUnfSF', 'TotalBsmtSF', 'Heating', 'HeatingQC',\n       'CentralAir', 'Electrical', '1stFlrSF', '2ndFlrSF', 'LowQualFinSF',\n       'GrLivArea', 'BsmtFullBath', 'BsmtHalfBath', 'FullBath', 'HalfBath',\n       'BedroomAbvGr', 'KitchenAbvGr', 'KitchenQual', 'TotRmsAbvGrd',\n       'Functional', 'Fireplaces', 'FireplaceQu', 'GarageType', 'GarageYrBlt',\n       'GarageFinish', 'GarageCars', 'GarageArea', 'GarageQual', 'GarageCond',\n       'PavedDrive', 'WoodDeckSF', 'OpenPorchSF', 'EnclosedPorch', '3SsnPorch',\n       'ScreenPorch', 'PoolArea', 'PoolQC', 'Fence', 'MiscFeature', 'MiscVal',\n       'MoSold', 'YrSold', 'SaleType', 'SaleCondition', 'SalePrice'],\n      dtype='object')\nId\n1       12.247694\n2       12.109011\n3       12.317167\n4       11.849398\n5       12.429216\n          ...    \n1456    12.072541\n1457    12.254863\n1458    12.493130\n1459    11.864462\n1460    11.901583\nName: SalePrice, Length: 1460, dtype: float64\n    MSSubClass MSZoning  LotFrontage  LotArea Street Alley LotShape  \\\nId                                                                    \n1           60       RL         65.0     8450   Pave   NaN      Reg   \n2           20       RL         80.0     9600   Pave   NaN      Reg   \n3           60       RL         68.0    11250   Pave   NaN      IR1   \n4           70       RL         60.0     9550   Pave   NaN      IR1   \n5           60       RL         84.0    14260   Pave   NaN      IR1   \n\n   LandContour Utilities LotConfig  ... ScreenPorch PoolArea PoolQC Fence  \\\nId                                  ...                                     \n1          Lvl    AllPub    Inside  ...           0        0    NaN   NaN   \n2          Lvl    AllPub       FR2  ...           0        0    NaN   NaN   \n3          Lvl    AllPub    Inside  ...           0        0    NaN   NaN   \n4          Lvl    AllPub    Corner  ...           0        0    NaN   NaN   \n5          Lvl    AllPub       FR2  ...           0        0    NaN   NaN   \n\n   MiscFeature MiscVal  MoSold  YrSold  SaleType  SaleCondition  \nId                                                               \n1          NaN       0       2    2008        WD         Normal  \n2          NaN       0       5    2007        WD         Normal  \n3          NaN       0       9    2008        WD         Normal  \n4          NaN       0       2    2006        WD        Abnorml  \n5          NaN       0      12    2008        WD         Normal  \n\n[5 rows x 79 columns]\n<class 'pandas.core.frame.DataFrame'>\nInt64Index: 1460 entries, 1 to 1460\nData columns (total 79 columns):\n #   Column         Non-Null Count  Dtype  \n---  ------         --------------  -----  \n 0   MSSubClass     1460 non-null   int64  \n 1   MSZoning       1460 non-null   object \n 2   LotFrontage    1201 non-null   float64\n 3   LotArea        1460 non-null   int64  \n 4   Street         1460 non-null   object \n 5   Alley          91 non-null     object \n 6   LotShape       1460 non-null   object \n 7   LandContour    1460 non-null   object \n 8   Utilities      1460 non-null   object \n 9   LotConfig      1460 non-null   object \n 10  LandSlope      1460 non-null   object \n 11  Neighborhood   1460 non-null   object \n 12  Condition1     1460 non-null   object \n 13  Condition2     1460 non-null   object \n 14  BldgType       1460 non-null   object \n 15  HouseStyle     1460 non-null   object \n 16  OverallQual    1460 non-null   int64  \n 17  OverallCond    1460 non-null   int64  \n 18  YearBuilt      1460 non-null   int64  \n 19  YearRemodAdd   1460 non-null   int64  \n 20  RoofStyle      1460 non-null   object \n 21  RoofMatl       1460 non-null   object \n 22  Exterior1st    1460 non-null   object \n 23  Exterior2nd    1460 non-null   object \n 24  MasVnrType     1452 non-null   object \n 25  MasVnrArea     1452 non-null   float64\n 26  ExterQual      1460 non-null   object \n 27  ExterCond      1460 non-null   object \n 28  Foundation     1460 non-null   object \n 29  BsmtQual       1423 non-null   object \n 30  BsmtCond       1423 non-null   object \n 31  BsmtExposure   1422 non-null   object \n 32  BsmtFinType1   1423 non-null   object \n 33  BsmtFinSF1     1460 non-null   int64  \n 34  BsmtFinType2   1422 non-null   object \n 35  BsmtFinSF2     1460 non-null   int64  \n 36  BsmtUnfSF      1460 non-null   int64  \n 37  TotalBsmtSF    1460 non-null   int64  \n 38  Heating        1460 non-null   object \n 39  HeatingQC      1460 non-null   object \n 40  CentralAir     1460 non-null   object \n 41  Electrical     1459 non-null   object \n 42  1stFlrSF       1460 non-null   int64  \n 43  2ndFlrSF       1460 non-null   int64  \n 44  LowQualFinSF   1460 non-null   int64  \n 45  GrLivArea      1460 non-null   int64  \n 46  BsmtFullBath   1460 non-null   int64  \n 47  BsmtHalfBath   1460 non-null   int64  \n 48  FullBath       1460 non-null   int64  \n 49  HalfBath       1460 non-null   int64  \n 50  BedroomAbvGr   1460 non-null   int64  \n 51  KitchenAbvGr   1460 non-null   int64  \n 52  KitchenQual    1460 non-null   object \n 53  TotRmsAbvGrd   1460 non-null   int64  \n 54  Functional     1460 non-null   object \n 55  Fireplaces     1460 non-null   int64  \n 56  FireplaceQu    770 non-null    object \n 57  GarageType     1379 non-null   object \n 58  GarageYrBlt    1379 non-null   float64\n 59  GarageFinish   1379 non-null   object \n 60  GarageCars     1460 non-null   int64  \n 61  GarageArea     1460 non-null   int64  \n 62  GarageQual     1379 non-null   object \n 63  GarageCond     1379 non-null   object \n 64  PavedDrive     1460 non-null   object \n 65  WoodDeckSF     1460 non-null   int64  \n 66  OpenPorchSF    1460 non-null   int64  \n 67  EnclosedPorch  1460 non-null   int64  \n 68  3SsnPorch      1460 non-null   int64  \n 69  ScreenPorch    1460 non-null   int64  \n 70  PoolArea       1460 non-null   int64  \n 71  PoolQC         7 non-null      object \n 72  Fence          281 non-null    object \n 73  MiscFeature    54 non-null     object \n 74  MiscVal        1460 non-null   int64  \n 75  MoSold         1460 non-null   int64  \n 76  YrSold         1460 non-null   int64  \n 77  SaleType       1460 non-null   object \n 78  SaleCondition  1460 non-null   object \ndtypes: float64(3), int64(33), object(43)\nmemory usage: 912.5+ KB\nNone\n        MSSubClass  LotFrontage        LotArea  OverallQual  OverallCond  \\\ncount  1460.000000  1201.000000    1460.000000  1460.000000  1460.000000   \nmean     56.897260    70.049958   10516.828082     6.099315     5.575342   \nstd      42.300571    24.284752    9981.264932     1.382997     1.112799   \nmin      20.000000    21.000000    1300.000000     1.000000     1.000000   \n25%      20.000000    59.000000    7553.500000     5.000000     5.000000   \n50%      50.000000    69.000000    9478.500000     6.000000     5.000000   \n75%      70.000000    80.000000   11601.500000     7.000000     6.000000   \nmax     190.000000   313.000000  215245.000000    10.000000     9.000000   \n\n         YearBuilt  YearRemodAdd   MasVnrArea   BsmtFinSF1   BsmtFinSF2  ...  \\\ncount  1460.000000   1460.000000  1452.000000  1460.000000  1460.000000  ...   \nmean   1971.267808   1984.865753   103.685262   443.639726    46.549315  ...   \nstd      30.202904     20.645407   181.066207   456.098091   161.319273  ...   \nmin    1872.000000   1950.000000     0.000000     0.000000     0.000000  ...   \n25%    1954.000000   1967.000000     0.000000     0.000000     0.000000  ...   \n50%    1973.000000   1994.000000     0.000000   383.500000     0.000000  ...   \n75%    2000.000000   2004.000000   166.000000   712.250000     0.000000  ...   \nmax    2010.000000   2010.000000  1600.000000  5644.000000  1474.000000  ...   \n\n        GarageArea   WoodDeckSF  OpenPorchSF  EnclosedPorch    3SsnPorch  \\\ncount  1460.000000  1460.000000  1460.000000    1460.000000  1460.000000   \nmean    472.980137    94.244521    46.660274      21.954110     3.409589   \nstd     213.804841   125.338794    66.256028      61.119149    29.317331   \nmin       0.000000     0.000000     0.000000       0.000000     0.000000   \n25%     334.500000     0.000000     0.000000       0.000000     0.000000   \n50%     480.000000     0.000000    25.000000       0.000000     0.000000   \n75%     576.000000   168.000000    68.000000       0.000000     0.000000   \nmax    1418.000000   857.000000   547.000000     552.000000   508.000000   \n\n       ScreenPorch     PoolArea       MiscVal       MoSold       YrSold  \ncount  1460.000000  1460.000000   1460.000000  1460.000000  1460.000000  \nmean     15.060959     2.758904     43.489041     6.321918  2007.815753  \nstd      55.757415    40.177307    496.123024     2.703626     1.328095  \nmin       0.000000     0.000000      0.000000     1.000000  2006.000000  \n25%       0.000000     0.000000      0.000000     5.000000  2007.000000  \n50%       0.000000     0.000000      0.000000     6.000000  2008.000000  \n75%       0.000000     0.000000      0.000000     8.000000  2009.000000  \nmax     480.000000   738.000000  15500.000000    12.000000  2010.000000  \n\n[8 rows x 36 columns]\nSummary:\n\nNumber of columns: 79\nNumber of object columns: 43\nNumber of columns with NaNs: 19\nNumber of object columns with NaNs: 16\nNumber of numeric columns with NaNs: 3\n"
    }
   ],
   "source": [
    "#vspath\n",
    "path = r\"data\\train.csv\"\n",
    "X_raw = pd.read_csv(path, index_col=\"Id\")\n",
    "X_ana = X_raw.copy()\n",
    "X_test = pd.read_csv(path, index_col =\"Id\")\n",
    "print(X_raw.columns)\n",
    "\n",
    "#kaggle path\n",
    "#X_raw = pd.read_csv('/kaggle/input/home-data-for-ml-course/train.csv', index_col='Id')\n",
    "#X_test = pd.read_csv('/kaggle/input/home-data-for-ml-course/test.csv', index_col='Id')\n",
    "\n",
    "X = X_raw.copy()\n",
    "\n",
    "neighborhood_ordered = list(X.groupby(\"Neighborhood\")[\"SalePrice\"].mean().sort_values().index)\n",
    "\n",
    "X.dropna(subset=[\"SalePrice\"], axis=0, inplace=True)\n",
    "#X.dropna(axis=1, inplace = True)\n",
    "y = np.log(X.SalePrice)\n",
    "print(y)\n",
    "X.drop(\"SalePrice\", axis=1, inplace=True)\n",
    "\n",
    "print(X.head())\n",
    "print(X.info())\n",
    "print(X.describe())\n",
    "\n",
    "#X[\"MSSubClass\"] = X[\"MSSubClass\"].astype(\"category\")\n",
    "#X_test[\"MSSubClass\"] = X_test[\"MSSubClass\"].astype(\"category\")\n",
    "\n",
    "col_obj = X.select_dtypes(include=[\"object\", \"bool\",\"category\"]).columns\n",
    "col_obj_above_10 = list([col for col in col_obj if X[col].nunique() > 15])\n",
    "col_obj_below_10 = list(set(col_obj)-set(col_obj_above_10))\n",
    "col_num = list(X.select_dtypes(exclude=[\"object\", \"bool\",\"category\"]).columns)\n",
    "col_with_nan = [col for col in X.columns if X[col].isna().any()]\n",
    "\n",
    "\n",
    "print(\"Summary:\\n\")\n",
    "print(\"Number of columns: {}\".format(len(X.columns)))\n",
    "print(\"Number of object columns: {}\".format(len(col_obj)))\n",
    "print(\"Number of columns with NaNs: {}\".format(len(col_with_nan)))\n",
    "print(\"Number of object columns with NaNs: {}\".format(len(set(col_with_nan)-set(col_num))))\n",
    "print(\"Number of numeric columns with NaNs: {}\".format(len(set(col_with_nan)-set(col_obj))))\n"
   ]
  },
  {
   "cell_type": "markdown",
   "metadata": {},
   "source": [
    "### Preprocessing\n"
   ]
  },
  {
   "cell_type": "code",
   "execution_count": 3,
   "metadata": {},
   "outputs": [],
   "source": [
    "\n",
    "#Ordinal1:  \"ExterQual\", \"ExterCond\", \"BsmtQual\", \"BsmtCond\", \"HeatingQC\"\n",
    "#Ordinal2:  [\"BsmtFinType1\",\"BsmtFinType2\"]\n",
    "#Ordinal3: \"Electrical\"\n",
    "#Ordinal4: \n",
    "\n",
    "#numerical1:  LotFrontage\n",
    "\n",
    "for c in [\"ExterQual\", \"ExterCond\", \"BsmtQual\", \"BsmtCond\", \"HeatingQC\",\"Electrical\",\"BsmtFinType1\",\"BsmtFinType2\"]:\n",
    "    col_obj_below_10.remove(c)\n",
    "    \n",
    "#col_obj_below_10.remove([\"ExterQual\", \"ExterCond\", \"BsmtQual\", \"BsmtCond\", \"HeatingQC\",\"Electrical\",\"BsmtFinType1\",\"BsmtFinType2\"])\n",
    "\n",
    "\n",
    "X[\"LotFrontage\"]= X.groupby([\"LotShape\", \"LotConfig\",\"BldgType\"])[\"LotFrontage\"].transform(lambda x: x.fillna(x.median()))\n",
    "X_test[\"LotFrontage\"] = X.groupby([\"LotShape\", \"LotConfig\",\"BldgType\"])[\"LotFrontage\"].transform(lambda x: x.fillna(x.median()))\n",
    "\n",
    "log_cols = [\"GrLivArea\"]\n",
    "for c in log_cols:\n",
    "    X[c] = np.log(X[c].fillna(X[c].median()))\n",
    "    X_test[c]= np.log(X_test[c].fillna(X_test[c].median()))\n",
    "\n",
    "\n",
    "col_obj_below_10.append(\"MSSubClass\")\n",
    "col_num.remove(\"LotFrontage\")\n",
    "\n",
    "for c in  X.select_dtypes(include=[\"object\"]).columns:\n",
    "    X[c].fillna(\"None\")\n",
    "    X_test[c].fillna(\"None\")\n",
    "\n",
    "res= {}\n",
    "np.random.seed(1)"
   ]
  },
  {
   "cell_type": "markdown",
   "metadata": {},
   "source": [
    "### Pipeline and Model"
   ]
  },
  {
   "cell_type": "code",
   "execution_count": 4,
   "metadata": {
    "tags": [
     "outputPrepend",
     "outputPrepend",
     "outputPrepend",
     "outputPrepend",
     "outputPrepend",
     "outputPrepend",
     "outputPrepend",
     "outputPrepend",
     "outputPrepend",
     "outputPrepend",
     "outputPrepend",
     "outputPrepend",
     "outputPrepend",
     "outputPrepend",
     "outputPrepend",
     "outputPrepend",
     "outputPrepend",
     "outputPrepend",
     "outputPrepend",
     "outputPrepend",
     "outputPrepend",
     "outputPrepend",
     "outputPrepend",
     "outputPrepend",
     "outputPrepend",
     "outputPrepend",
     "outputPrepend",
     "outputPrepend",
     "outputPrepend",
     "outputPrepend",
     "outputPrepend",
     "outputPrepend",
     "outputPrepend",
     "outputPrepend",
     "outputPrepend",
     "outputPrepend",
     "outputPrepend",
     "outputPrepend",
     "outputPrepend",
     "outputPrepend",
     "outputPrepend",
     "outputPrepend",
     "outputPrepend",
     "outputPrepend",
     "outputPrepend",
     "outputPrepend",
     "outputPrepend",
     "outputPrepend",
     "outputPrepend",
     "outputPrepend",
     "outputPrepend",
     "outputPrepend",
     "outputPrepend",
     "outputPrepend",
     "outputPrepend",
     "outputPrepend",
     "outputPrepend",
     "outputPrepend",
     "outputPrepend",
     "outputPrepend",
     "outputPrepend",
     "outputPrepend",
     "outputPrepend",
     "outputPrepend",
     "outputPrepend",
     "outputPrepend",
     "outputPrepend",
     "outputPrepend",
     "outputPrepend",
     "outputPrepend",
     "outputPrepend",
     "outputPrepend",
     "outputPrepend",
     "outputPrepend"
    ]
   },
   "outputs": [
    {
     "output_type": "stream",
     "name": "stdout",
     "text": "Fitting 3 folds for each of 1 candidates, totalling 3 fits\n[Parallel(n_jobs=-2)]: Using backend LokyBackend with 7 concurrent workers.\n[Parallel(n_jobs=-2)]: Done   1 tasks      | elapsed:    4.3s\n[Parallel(n_jobs=-2)]: Done   3 out of   3 | elapsed:    4.3s remaining:    0.0s\n[Parallel(n_jobs=-2)]: Done   3 out of   3 | elapsed:    4.3s finished\n-0.08444517040227473\n{'reg__alpha': 0.10925528556796542, 'reg__colsample_bytree': 0.5, 'reg__early_stopping_counts': 10, 'reg__gamma': 0, 'reg__learning_rate': 0.02428125, 'reg__max_depth': 5, 'reg__min_child_weight': 4, 'reg__n_estimators': 511, 'reg__subsample': 0.58}\n15073.62522295947\n"
    }
   ],
   "source": [
    "\n",
    "#reg = ElasticNet()\n",
    "\n",
    "X_train, X_valid, y_train, y_valid = train_test_split( X, y, train_size = 0.7, test_size=0.3, random_state=0)\n",
    "reg = XGBRegressor( evals=y_valid, eval_metric=\"mae\",cv=False, seed=0, verbosity=1 ) #evals=y_valid, eval_metric=\"mae\",\n",
    "\n",
    "\n",
    "#numeric_transformer = Pipeline([\"imputer\",SimpleImputer(strategy=\"median\")])\n",
    "\n",
    "#log y\n",
    "#y_train, y_valid = np.log(y_train), np.log(y_valid)\n",
    "\n",
    "\n",
    "\n",
    "\n",
    "\n",
    "#raising value error due to lack in synchronization caused by OneHotEncoder and OrdinalEncoder\n",
    "preprocessing = ColumnTransformer(transformers=[(\"numeric\", SimpleImputer(strategy = \"median\"), col_num) ,\n",
    "                                                (\"LotFrontage_\", SimpleImputer(strategy = \"median\"), [\"LotFrontage\"]) ,\n",
    "\n",
    "                                            (\"obj_below_10\", Pipeline([(\"obj_imputer1\", SimpleImputer(strategy = \"most_frequent\")),\n",
    "                                                                        (\"OHE\"            , OneHotEncoder(handle_unknown='ignore'\n",
    "                                                                                                            ))\n",
    "                                                                        ]), col_obj_below_10) ,\n",
    "                                            (\"Neighborhood_\", Pipeline([(\"obj_imputer2\", SimpleImputer(strategy = \"most_frequent\")),\n",
    "                                                                        (\"label_encoder1\"  , OrdinalEncoder(categories=[neighborhood_ordered])\n",
    "                                                                                                            )\n",
    "                                                                        ]), [\"Neighborhood\"]),\n",
    "                                            (\"Ratings1_\", Pipeline([(\"obj_imputer3\", SimpleImputer(strategy =\"constant\", fill_value=\"TA\")),\n",
    "                                                                        (\"label_encoder2\"  , OrdinalEncoder(categories=[[\"Po\", \"Fa\", \"TA\", \"Gd\", \"Ex\"],\n",
    "                                                                                                                        [\"Po\", \"Fa\", \"TA\", \"Gd\", \"Ex\"],\n",
    "                                                                                                                        [\"Po\", \"Fa\", \"TA\", \"Gd\", \"Ex\"],\n",
    "                                                                                                                        [\"Po\", \"Fa\", \"TA\", \"Gd\", \"Ex\"],\n",
    "                                                                                                                        [\"Po\", \"Fa\", \"TA\", \"Gd\", \"Ex\"]])\n",
    "                                                                                                            )\n",
    "                                                                        ]), [ \"ExterQual\", \"ExterCond\", \"BsmtQual\", \"BsmtCond\", \"HeatingQC\"]),\n",
    "                                            (\"Ratings2_\", Pipeline([(\"obj_imputer4\", SimpleImputer(strategy = \"most_frequent\")),\n",
    "                                                                        (\"label_encoder3\"  , OrdinalEncoder(categories=[[\"GLQ\",\"ALQ\",\"BLQ\",\"Rec\",\"LwQ\",\"Unf\",\"NA\"],\n",
    "                                                                                                                        [\"GLQ\",\"ALQ\",\"BLQ\",\"Rec\",\"LwQ\",\"Unf\",\"NA\"]])\n",
    "                                                                                                            )\n",
    "                                                                        ]), [\"BsmtFinType1\",\"BsmtFinType2\"]),\n",
    "                                            (\"Electric_\", Pipeline([(\"obj_imputer5\", SimpleImputer(strategy = \"most_frequent\")),\n",
    "                                                                        (\"label_encoder4\"  , OrdinalEncoder(categories=[[\"Mix\", \"FuseP\", \"FuseF\", \"FuseA\", \"SBrkr\"]])\n",
    "                                                                                                            )\n",
    "                                                                        ]), [\"Electrical\"]),\n",
    "                                            (\"Exterior_2nd\", Pipeline([(\"obj_imputer7\", SimpleImputer(strategy = \"most_frequent\")),\n",
    "                                                                        (\"label_encoderX\"  , OrdinalEncoder(categories=[list(X[\"Exterior2nd\"].unique())]))\n",
    "                                                                        ]), [\"Exterior2nd\"])], remainder='drop')\n",
    "\n",
    "\n",
    "my_pipe = Pipeline([(\"preprocessing\",preprocessing),\n",
    "                     #(\"pca\", PCA(n_components = 35)),\n",
    "                     (\"rb_scaler\", RobustScaler()),\n",
    "                     (\"reg\",reg)])\n",
    "\n",
    "param_grid = {  #\"preprocessing__numeric__strategy\":[\"median\", \"mean\"],\n",
    "                #\"pca__n_components\": [31],\n",
    "                \"reg__early_stopping_counts\": [10],\n",
    "                \"reg__n_estimators\": [511],#done\n",
    "                \"reg__learning_rate\":[0.02428125],\n",
    "                \"reg__max_depth\": [5],#done\n",
    "                \"reg__min_child_weight\":[4],#done[1, 2, 3, 4, 5, 6, 7, 8], \n",
    "                \"reg__gamma\":[0], #done[ 0.0, 0.1, 0.2 , 0.3, 0.4 ],\n",
    "                \"reg__subsample\":[0.58],#done[0.940136255964662][0.3283798423145866]\n",
    "                \"reg__colsample_bytree\": [0.5], #done[i/100.0 for i in range(45,55,1)], \n",
    "                \"reg__alpha\":[0.10925528556796542], #done\n",
    "                \n",
    "                }\n",
    "\n",
    "\n",
    "cv = 3\n",
    "\n",
    "\n",
    "\n",
    "\n",
    "search = GridSearchCV(my_pipe, param_grid=param_grid, scoring=\"neg_mean_absolute_error\", verbose=50, n_jobs=-2, cv = cv,)\n",
    "search.fit(X_train,y_train)\n",
    "print(search.best_score_)\n",
    "#print(\"best iteration: \", search.best_iteration, s)\n",
    "search_pred = search.predict(X_valid)\n",
    "#search_pred = np.exp(search_pred)\n",
    "search_score = mean_absolute_error(np.exp(y_valid), np.exp(search_pred))\n",
    "print(search.best_params_)\n",
    "#res[search.best_score_] = search.best_params_\n",
    "\n",
    "print(search_score)"
   ]
  },
  {
   "cell_type": "code",
   "execution_count": 5,
   "metadata": {},
   "outputs": [
    {
     "output_type": "execute_result",
     "data": {
      "text/plain": "Pipeline(memory=None,\n         steps=[('preprocessing',\n                 ColumnTransformer(n_jobs=None, remainder='drop',\n                                   sparse_threshold=0.3,\n                                   transformer_weights=None,\n                                   transformers=[('numeric',\n                                                  SimpleImputer(add_indicator=False,\n                                                                copy=True,\n                                                                fill_value=None,\n                                                                missing_values=nan,\n                                                                strategy='median',\n                                                                verbose=0),\n                                                  ['MSSubClass', 'LotArea',\n                                                   'OverallQual', 'OverallCond',\n                                                   'YearBuilt', 'YearRemodAdd',...\n                              gamma=0, gpu_id=-1, importance_type='gain',\n                              interaction_constraints=None,\n                              learning_rate=0.02428125, max_delta_step=0,\n                              max_depth=5, min_child_weight=4, missing=nan,\n                              monotone_constraints=None, n_estimators=511,\n                              n_jobs=0, num_parallel_tree=1,\n                              objective='reg:squarederror', random_state=0,\n                              reg_alpha=0.109255284, reg_lambda=1,\n                              scale_pos_weight=1, seed=0, subsample=0.58, ...))],\n         verbose=False)"
     },
     "metadata": {},
     "execution_count": 5
    }
   ],
   "source": [
    "model = search.best_estimator_\n",
    "model"
   ]
  },
  {
   "cell_type": "code",
   "execution_count": 6,
   "metadata": {},
   "outputs": [],
   "source": [
    "param_grid = {  #\"preprocessing__numeric__strategy\":[\"median\", \"mean\"],\n",
    "                #\"pca__n_components\": [31],\n",
    "                \"reg__early_stopping_counts\": [50],\n",
    "                \"reg__n_estimators\": [171],#done\n",
    "                \"reg__learning_rate\":[0.1],\n",
    "                \"reg__max_depth\": [4], #done[ 3, 4, 5, 6, 8, 10, 12, 15],\n",
    "                \"reg__min_child_weight\":[3], #done[1, 2, 3, 4, 5, 6, 7, 8], \n",
    "                \"reg__gamma\":[1], #done[ 0.0, 0.1, 0.2 , 0.3, 0.4 ],\n",
    "                \"reg__subsample\":[0.940136255964662],#done[0.940136255964662]\n",
    "                \"reg__colsample_bytree\": [0.5], #done[i/100.0 for i in range(45,55,1)], \n",
    "                \"reg__alpha\":[0.10925528556796542], #done\n",
    "                \n",
    "                }"
   ]
  },
  {
   "cell_type": "code",
   "execution_count": 7,
   "metadata": {},
   "outputs": [
    {
     "output_type": "stream",
     "name": "stdout",
     "text": "14847.06650435217\n"
    }
   ],
   "source": [
    "XGBR_final = XGBRegressor(n_estimators=4500, learning_rate=0.008, max_depth = 4, min_child_weight=4, gamma=0, subsample= 0.940136255964662, colsample_bytree = 0.5, alpha = 0.10925528556796542, early_stopping_counts=50, evals=y_valid, eval_metric=\"mae\",cv=True, seed=0, verbosity=1 )\n",
    "\n",
    "\n",
    "my_pipe_out = Pipeline([(\"preprocessing\", preprocessing),\n",
    "                        (\"rb_scaler\", RobustScaler()),\n",
    "                        (\"reg_final\", XGBR_final)\n",
    "                        ])\n",
    "\n",
    "\n",
    "my_pipe_out.fit(X_train, y_train)\n",
    "\n",
    "valid_preds = my_pipe_out.predict(X_valid)\n",
    "valid_score = mean_absolute_error(np.exp(y_valid), np.exp(valid_preds))\n",
    "print(valid_score)\n"
   ]
  },
  {
   "cell_type": "code",
   "execution_count": 9,
   "metadata": {},
   "outputs": [
    {
     "output_type": "stream",
     "name": "stdout",
     "text": "225\n"
    }
   ],
   "source": []
  },
  {
   "cell_type": "markdown",
   "metadata": {},
   "source": [
    "### Output generation\n"
   ]
  },
  {
   "cell_type": "code",
   "execution_count": 10,
   "metadata": {},
   "outputs": [],
   "source": [
    "test_preds = my_pipe_out.predict(X_test)\n",
    "\n",
    "#recalc preds\n",
    "test_preds=np.exp(test_preds)\n",
    "output = pd.DataFrame({\"Id\": X_test.index,\n",
    "                     \"SalePrice\": test_preds})\n",
    "output.to_csv(\"submission_other.csv\", index=False)"
   ]
  },
  {
   "cell_type": "markdown",
   "metadata": {},
   "source": [
    "param_grid = {  #\"preprocessing__numeric__strategy\":[\"median\", \"mean\"],\n",
    "                #\"pca__n_components\": np.linspace(25, 65, 5, dtype=\"int\"),\n",
    "                \"reg__early_stopping_counts\": [50],\n",
    "                \"reg__n_estimators\": [342],\n",
    "                \"reg__learning_rate\":[0.04002371183530562],\n",
    "                \"reg__max_depth\": [5],\n",
    "                \"reg__min_child_weight\": [1.02],\n",
    "                \"reg__gamma\":[0],\n",
    "                \"reg__subsample\":[0.8264488486588846],\n",
    "                \"reg__colsample_bytree\": [0.551988011711525],\n",
    "                \"reg__alpha\":[0.107],\n",
    "                \n",
    "                }"
   ]
  }
 ],
 "metadata": {
  "language_info": {
   "codemirror_mode": {
    "name": "ipython",
    "version": 3
   },
   "file_extension": ".py",
   "mimetype": "text/x-python",
   "name": "python",
   "nbconvert_exporter": "python",
   "pygments_lexer": "ipython3",
   "version": "3.7.7-final"
  },
  "orig_nbformat": 2,
  "kernelspec": {
   "name": "python37664bitdsproj10320conda7d2d0b8284c34340aa156a3daf2ddb47",
   "display_name": "Python 3.7.6 64-bit ('DS_proj1_03-20': conda)"
  }
 },
 "nbformat": 4,
 "nbformat_minor": 2
}